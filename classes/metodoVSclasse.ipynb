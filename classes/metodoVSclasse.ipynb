{
 "cells": [
  {
   "cell_type": "code",
   "execution_count": null,
   "metadata": {},
   "outputs": [],
   "source": []
  },
  {
   "cell_type": "code",
   "execution_count": 44,
   "metadata": {},
   "outputs": [],
   "source": [
    "class Connection:\n",
    "    def __init__(self, host='localhost'):\n",
    "        self.host = host\n",
    "        self.user = None\n",
    "        self.password = None\n",
    "\n",
    "    def set_user(self, user):\n",
    "            #setter\n",
    "        self.user = user\n",
    "\n",
    "    def set_password(self, password):\n",
    "           \n",
    "        self.password= password\n",
    "\n",
    "    @classmethod\n",
    "    def create_with_auth(cls, user, password):\n",
    "        connection = cls()\n",
    "        connection.user = user\n",
    "        connection.password = password\n",
    "        return connection\n"
   ]
  },
  {
   "cell_type": "code",
   "execution_count": 50,
   "metadata": {},
   "outputs": [
    {
     "name": "stdout",
     "output_type": "stream",
     "text": [
      "luiz\n",
      "123\n"
     ]
    }
   ],
   "source": [
    "c1 = Connection()\n",
    "c1.set_user('luiz')\n",
    "c1.set_password('123')\n",
    "print(c1.user)\n",
    "print(c1.password)"
   ]
  },
  {
   "cell_type": "code",
   "execution_count": 51,
   "metadata": {},
   "outputs": [
    {
     "name": "stdout",
     "output_type": "stream",
     "text": [
      "1234\n",
      "luis\n"
     ]
    }
   ],
   "source": [
    "c1 = Connection.create_with_auth('luis','1234')\n",
    "print(c1.password)\n",
    "print(c1.user)\n"
   ]
  },
  {
   "cell_type": "code",
   "execution_count": 47,
   "metadata": {},
   "outputs": [
    {
     "name": "stdout",
     "output_type": "stream",
     "text": [
      "1234\n"
     ]
    }
   ],
   "source": []
  },
  {
   "cell_type": "code",
   "execution_count": null,
   "metadata": {},
   "outputs": [],
   "source": []
  },
  {
   "cell_type": "code",
   "execution_count": null,
   "metadata": {},
   "outputs": [],
   "source": []
  },
  {
   "cell_type": "code",
   "execution_count": null,
   "metadata": {},
   "outputs": [],
   "source": []
  },
  {
   "cell_type": "code",
   "execution_count": null,
   "metadata": {},
   "outputs": [],
   "source": []
  },
  {
   "cell_type": "code",
   "execution_count": null,
   "metadata": {},
   "outputs": [],
   "source": []
  },
  {
   "cell_type": "code",
   "execution_count": null,
   "metadata": {},
   "outputs": [],
   "source": []
  }
 ],
 "metadata": {
  "kernelspec": {
   "display_name": "base",
   "language": "python",
   "name": "python3"
  },
  "language_info": {
   "codemirror_mode": {
    "name": "ipython",
    "version": 3
   },
   "file_extension": ".py",
   "mimetype": "text/x-python",
   "name": "python",
   "nbconvert_exporter": "python",
   "pygments_lexer": "ipython3",
   "version": "3.9.13"
  },
  "orig_nbformat": 4
 },
 "nbformat": 4,
 "nbformat_minor": 2
}
