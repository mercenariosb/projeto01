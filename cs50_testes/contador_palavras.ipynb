{
 "cells": [
  {
   "cell_type": "code",
   "execution_count": 8,
   "metadata": {},
   "outputs": [
    {
     "name": "stdout",
     "output_type": "stream",
     "text": [
      "O índice Coleman-Liau é 14\n"
     ]
    }
   ],
   "source": [
    "def coleman_liau_index(text):\n",
    "    # Remover pontuações e contar as palavras e sentenças\n",
    "    pontuacao = '''!()-[]{};:'\"\\,<>./?@#$%^&*_~'''\n",
    "    texto = text.translate(str.maketrans('', '', pontuacao))\n",
    "    letras = texto.split()\n",
    "    num_letras = len(letras)\n",
    "    num_sentensas = texto.count('.') + texto.count('!') + texto.count('?')\n",
    "\n",
    "    # Calcular o número médio de letras por 100 palavras e sentenças\n",
    "    avg_leituras= sum(len(word) for word in letras) / num_letras * 100\n",
    "    avg_sentensas = num_sentensas / num_letras * 100\n",
    "\n",
    "    # Calcular o índice Coleman-Liau\n",
    "    index = 0.0588 * avg_leituras - 0.296 * avg_sentensas - 15.8\n",
    "    return round(index)\n",
    "\n",
    "# Exemplo de uso\n",
    "texto = input(\"Digite o texto: \")\n",
    "leitura_level = coleman_liau_index(texto)\n",
    "\n",
    "print(\"O índice Coleman-Liau é\", leitura_level)\n"
   ]
  },
  {
   "cell_type": "code",
   "execution_count": 6,
   "metadata": {},
   "outputs": [
    {
     "ename": "ZeroDivisionError",
     "evalue": "division by zero",
     "output_type": "error",
     "traceback": [
      "\u001b[1;31m---------------------------------------------------------------------------\u001b[0m",
      "\u001b[1;31mZeroDivisionError\u001b[0m                         Traceback (most recent call last)",
      "\u001b[1;32m~\\AppData\\Local\\Temp\\ipykernel_21496\\1150603860.py\u001b[0m in \u001b[0;36m<module>\u001b[1;34m\u001b[0m\n\u001b[0;32m     27\u001b[0m \u001b[1;31m# Exemplo de uso\u001b[0m\u001b[1;33m\u001b[0m\u001b[1;33m\u001b[0m\u001b[0m\n\u001b[0;32m     28\u001b[0m \u001b[0mtext\u001b[0m \u001b[1;33m=\u001b[0m \u001b[0minput\u001b[0m\u001b[1;33m(\u001b[0m\u001b[1;34m\"Digite o texto: \"\u001b[0m\u001b[1;33m)\u001b[0m\u001b[1;33m\u001b[0m\u001b[1;33m\u001b[0m\u001b[0m\n\u001b[1;32m---> 29\u001b[1;33m \u001b[0mreading_level\u001b[0m \u001b[1;33m=\u001b[0m \u001b[0mcoleman_liau_index\u001b[0m\u001b[1;33m(\u001b[0m\u001b[0mtext\u001b[0m\u001b[1;33m)\u001b[0m\u001b[1;33m\u001b[0m\u001b[1;33m\u001b[0m\u001b[0m\n\u001b[0m\u001b[0;32m     30\u001b[0m \u001b[1;33m\u001b[0m\u001b[0m\n\u001b[0;32m     31\u001b[0m \u001b[0mprint\u001b[0m\u001b[1;33m(\u001b[0m\u001b[1;34m\"O índice Coleman-Liau é\"\u001b[0m\u001b[1;33m,\u001b[0m \u001b[0mreading_level\u001b[0m\u001b[1;33m)\u001b[0m\u001b[1;33m\u001b[0m\u001b[1;33m\u001b[0m\u001b[0m\n",
      "\u001b[1;32m~\\AppData\\Local\\Temp\\ipykernel_21496\\1150603860.py\u001b[0m in \u001b[0;36mcoleman_liau_index\u001b[1;34m(text)\u001b[0m\n\u001b[0;32m     18\u001b[0m \u001b[1;33m\u001b[0m\u001b[0m\n\u001b[0;32m     19\u001b[0m     \u001b[1;31m# Calcular o número médio de letras por 100 palavras e sentenças\u001b[0m\u001b[1;33m\u001b[0m\u001b[1;33m\u001b[0m\u001b[0m\n\u001b[1;32m---> 20\u001b[1;33m     \u001b[0mavg_letters\u001b[0m \u001b[1;33m=\u001b[0m \u001b[0msum\u001b[0m\u001b[1;33m(\u001b[0m\u001b[0mlen\u001b[0m\u001b[1;33m(\u001b[0m\u001b[0mword\u001b[0m\u001b[1;33m)\u001b[0m \u001b[1;32mfor\u001b[0m \u001b[0mword\u001b[0m \u001b[1;32min\u001b[0m \u001b[0mwords\u001b[0m\u001b[1;33m)\u001b[0m \u001b[1;33m/\u001b[0m \u001b[0mnum_words\u001b[0m \u001b[1;33m*\u001b[0m \u001b[1;36m100\u001b[0m\u001b[1;33m\u001b[0m\u001b[1;33m\u001b[0m\u001b[0m\n\u001b[0m\u001b[0;32m     21\u001b[0m     \u001b[0mavg_sentences\u001b[0m \u001b[1;33m=\u001b[0m \u001b[0mnum_sentences\u001b[0m \u001b[1;33m/\u001b[0m \u001b[0mnum_words\u001b[0m \u001b[1;33m*\u001b[0m \u001b[1;36m100\u001b[0m\u001b[1;33m\u001b[0m\u001b[1;33m\u001b[0m\u001b[0m\n\u001b[0;32m     22\u001b[0m \u001b[1;33m\u001b[0m\u001b[0m\n",
      "\u001b[1;31mZeroDivisionError\u001b[0m: division by zero"
     ]
    }
   ],
   "source": [
    "import string\n",
    "\n",
    "def remove_punctuation(text):\n",
    "    # Remover pontuações do texto\n",
    "    punctuacao = string.punctuation\n",
    "    text_sem_punct = \"\"\n",
    "    for char in text:\n",
    "        if char not in punctuacao:\n",
    "            text_sem_punct += char\n",
    "    return text_sem_punct\n",
    "\n",
    "def coleman_liau_index(text):\n",
    "    # Remover pontuações e contar as palavras e sentenças\n",
    "    text_sem_punct = remove_punctuation(text)\n",
    "    words = text_sem_punct.split()\n",
    "    num_words = len(words)\n",
    "    num_sentences = text_sem_punct.count('.') + text_sem_punct.count('!') + text_sem_punct.count('?')\n",
    "\n",
    "    # Calcular o número médio de letras por 100 palavras e sentenças\n",
    "    avg_letters = sum(len(word) for word in words) / num_words * 100\n",
    "    avg_sentences = num_sentences / num_words * 100\n",
    "\n",
    "    # Calcular o índice Coleman-Liau\n",
    "    index = 0.0588 * avg_letters - 0.296 * avg_sentences - 15.8\n",
    "    return round(index)\n",
    "\n",
    "# Exemplo de uso\n",
    "text = input(\"Digite o texto: \")\n",
    "reading_level = coleman_liau_index(text)\n",
    "\n",
    "print(\"O índice Coleman-Liau é\", reading_level)\n"
   ]
  }
 ],
 "metadata": {
  "kernelspec": {
   "display_name": "base",
   "language": "python",
   "name": "python3"
  },
  "language_info": {
   "codemirror_mode": {
    "name": "ipython",
    "version": 3
   },
   "file_extension": ".py",
   "mimetype": "text/x-python",
   "name": "python",
   "nbconvert_exporter": "python",
   "pygments_lexer": "ipython3",
   "version": "3.9.13"
  },
  "orig_nbformat": 4
 },
 "nbformat": 4,
 "nbformat_minor": 2
}
