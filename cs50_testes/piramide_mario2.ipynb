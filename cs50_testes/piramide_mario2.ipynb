{
 "cells": [
  {
   "cell_type": "code",
   "execution_count": 2,
   "metadata": {},
   "outputs": [
    {
     "name": "stdout",
     "output_type": "stream",
     "text": [
      "10\n",
      "         #      #\n",
      "        ##      ##\n",
      "       ###      ###\n",
      "      ####      ####\n",
      "     #####      #####\n",
      "    ######      ######\n",
      "   #######      #######\n",
      "  ########      ########\n",
      " #########      #########\n",
      "##########      ##########\n"
     ]
    }
   ],
   "source": [
    "numero_andares = []\n",
    "\n",
    "def piramide_tamanho():\n",
    "    try:\n",
    "        piramide = int(input('Tamanho da pirâmide: '))\n",
    "        print(piramide)\n",
    "        \n",
    "        while piramide <= 1 or piramide == 0:\n",
    "            print('A pirâmide precisa ter um tamanho maior que 1.')\n",
    "            piramide = int(input('Tamanho da pirâmide: '))\n",
    "        \n",
    "        numero_andares.append(piramide)\n",
    "    \n",
    "    except ValueError:\n",
    "        print('Entrada inválida. Digite um número inteiro.')\n",
    "        piramide_tamanho()\n",
    "\n",
    "piramide_tamanho()\n",
    "\n",
    "for blocos in numero_andares:\n",
    "    for i in range(1, blocos + 1):\n",
    "        arterisco = '#' * i\n",
    "        espaco_esquerda = ' ' * (blocos - i)\n",
    "        espaco_2 = ' '\n",
    "\n",
    "        print(f'{espaco_esquerda}{arterisco}{espaco_2 * 6}{arterisco}')\n",
    "    \n",
    "    \n"
   ]
  }
 ],
 "metadata": {
  "kernelspec": {
   "display_name": "base",
   "language": "python",
   "name": "python3"
  },
  "language_info": {
   "codemirror_mode": {
    "name": "ipython",
    "version": 3
   },
   "file_extension": ".py",
   "mimetype": "text/x-python",
   "name": "python",
   "nbconvert_exporter": "python",
   "pygments_lexer": "ipython3",
   "version": "3.9.13"
  },
  "orig_nbformat": 4
 },
 "nbformat": 4,
 "nbformat_minor": 2
}
