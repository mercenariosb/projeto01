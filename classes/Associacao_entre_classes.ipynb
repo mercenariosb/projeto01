{
 "cells": [
  {
   "cell_type": "code",
   "execution_count": 13,
   "metadata": {},
   "outputs": [],
   "source": [
    "class Escritor:\n",
    "    def __init__(self, nome) -> None:\n",
    "        self.nome = nome\n",
    "        self._ferramenta = None\n",
    "\n",
    "    @property\n",
    "    def ferramenta(self):\n",
    "        return self._ferramenta\n",
    "    \n",
    "    @ferramenta.setter\n",
    "    def ferramenta(self, ferramenta):\n",
    "        self._ferramenta = ferramenta            ##########################################################################################################   \n",
    "                                                 ## Estamos usando o Getter e o setter para criar um relacionamento entre Escritor e ferramenta de escrever\n",
    "                                                ############################################################################################################    \n",
    "class FerramentaDeEscrever:\n",
    "    def __init__(self,nome):\n",
    "        self.nome = nome\n",
    "\n",
    "    def escrever(self):\n",
    "        return f'{self.nome} esta escrevendo'\n",
    "    \n",
    "\n",
    "Escritor = Escritor('luiz')\n",
    "caneta = FerramentaDeEscrever('Caneta Bic')\n",
    "Maquina_de_escrever = FerramentaDeEscrever('Maquina de Escrever')\n",
    "\n",
    "Escritor.ferramenta = Maquina_de_escrever                       ### E AQUI TEMOS A ASSOCIAÇÃO"
   ]
  },
  {
   "cell_type": "code",
   "execution_count": 14,
   "metadata": {},
   "outputs": [
    {
     "name": "stdout",
     "output_type": "stream",
     "text": [
      "Caneta Bic esta escrevendo\n",
      "Maquina de Escrever esta escrevendo\n"
     ]
    }
   ],
   "source": [
    "print(caneta.escrever())\n",
    "print(Escritor.ferramenta.escrever())  # em associação # isto é uma associação fraca"
   ]
  }
 ],
 "metadata": {
  "kernelspec": {
   "display_name": "base",
   "language": "python",
   "name": "python3"
  },
  "language_info": {
   "codemirror_mode": {
    "name": "ipython",
    "version": 3
   },
   "file_extension": ".py",
   "mimetype": "text/x-python",
   "name": "python",
   "nbconvert_exporter": "python",
   "pygments_lexer": "ipython3",
   "version": "3.9.13"
  },
  "orig_nbformat": 4
 },
 "nbformat": 4,
 "nbformat_minor": 2
}
