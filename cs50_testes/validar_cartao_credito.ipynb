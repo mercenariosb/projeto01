{
 "cells": [
  {
   "cell_type": "code",
   "execution_count": 1,
   "metadata": {},
   "outputs": [
    {
     "name": "stdout",
     "output_type": "stream",
     "text": [
      "O número do cartão de crédito é válido!\n"
     ]
    }
   ],
   "source": [
    "def luhn_algorithm(card_number):\n",
    "    card_number = str(card_number)\n",
    "    card_number = card_number.replace(\" \", \"\")  # Remover espaços em branco, se houver\n",
    "\n",
    "    if not card_number.isdigit():\n",
    "        return False  # O número do cartão deve conter apenas dígitos\n",
    "\n",
    "    total_sum = 0\n",
    "    num_digits = len(card_number)\n",
    "    is_second_digit = False\n",
    "\n",
    "    for i in range(num_digits - 1, -1, -1):\n",
    "        digit = int(card_number[i])\n",
    "\n",
    "        if is_second_digit:\n",
    "            digit *= 2\n",
    "\n",
    "            if digit > 9:\n",
    "                digit = digit // 10 + digit % 10\n",
    "\n",
    "        total_sum += digit\n",
    "        is_second_digit = not is_second_digit\n",
    "\n",
    "    return total_sum % 10 == 0\n",
    "\n",
    "\n",
    "# Exemplo de uso\n",
    "card_number = input(\"Digite o número do cartão de crédito: \")\n",
    "is_valid = luhn_algorithm(card_number)\n",
    "\n",
    "if is_valid:\n",
    "    print(\"O número do cartão de crédito é válido!\")\n",
    "else:\n",
    "    print(\"O número do cartão de crédito é inválido!\")\n"
   ]
  }
 ],
 "metadata": {
  "kernelspec": {
   "display_name": "base",
   "language": "python",
   "name": "python3"
  },
  "language_info": {
   "codemirror_mode": {
    "name": "ipython",
    "version": 3
   },
   "file_extension": ".py",
   "mimetype": "text/x-python",
   "name": "python",
   "nbconvert_exporter": "python",
   "pygments_lexer": "ipython3",
   "version": "3.9.13"
  },
  "orig_nbformat": 4
 },
 "nbformat": 4,
 "nbformat_minor": 2
}
