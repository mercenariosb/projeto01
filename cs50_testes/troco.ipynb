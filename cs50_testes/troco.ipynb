{
 "cells": [
  {
   "cell_type": "code",
   "execution_count": 2,
   "metadata": {},
   "outputs": [
    {
     "name": "stdout",
     "output_type": "stream",
     "text": [
      "Troco de 90 centavos:\n",
      "3 moedas de 25 centavos\n",
      "1 moedas de 10 centavos\n",
      "1 moedas de 5 centavos\n",
      "0 moedas de 1 centavos\n"
     ]
    }
   ],
   "source": [
    "def dar_troco(valor_troco):\n",
    "    moedas = [25, 10, 5, 1]\n",
    "    resultado = []\n",
    "    \n",
    "    for moeda in moedas:\n",
    "        quantidade = valor_troco // moeda\n",
    "        resultado.append((moeda, quantidade))\n",
    "        valor_troco %= moeda\n",
    "    \n",
    "    return resultado\n",
    "\n",
    "# Exemplo de uso\n",
    "troco = 90\n",
    "resultado = dar_troco(troco)\n",
    "\n",
    "print(f'Troco de {troco} centavos:')\n",
    "for moeda, quantidade in resultado:\n",
    "    print(f'{quantidade} moedas de {moeda} centavos')\n"
   ]
  }
 ],
 "metadata": {
  "kernelspec": {
   "display_name": "base",
   "language": "python",
   "name": "python3"
  },
  "language_info": {
   "codemirror_mode": {
    "name": "ipython",
    "version": 3
   },
   "file_extension": ".py",
   "mimetype": "text/x-python",
   "name": "python",
   "nbconvert_exporter": "python",
   "pygments_lexer": "ipython3",
   "version": "3.9.13"
  },
  "orig_nbformat": 4
 },
 "nbformat": 4,
 "nbformat_minor": 2
}
