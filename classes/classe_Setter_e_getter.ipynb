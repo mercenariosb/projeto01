{
 "cells": [
  {
   "attachments": {},
   "cell_type": "markdown",
   "metadata": {},
   "source": [
    "# Criando get no Python para encapsular"
   ]
  },
  {
   "cell_type": "code",
   "execution_count": 1,
   "metadata": {},
   "outputs": [
    {
     "name": "stdout",
     "output_type": "stream",
     "text": [
      "Collecting dataclasses\n",
      "  Downloading dataclasses-0.6-py3-none-any.whl (14 kB)\n",
      "Installing collected packages: dataclasses\n",
      "Successfully installed dataclasses-0.6\n",
      "Note: you may need to restart the kernel to use updated packages.\n"
     ]
    },
    {
     "name": "stderr",
     "output_type": "stream",
     "text": [
      "\n",
      "[notice] A new release of pip is available: 23.0.1 -> 23.1.2\n",
      "[notice] To update, run: python.exe -m pip install --upgrade pip\n"
     ]
    }
   ],
   "source": [
    "pip install dataclasses"
   ]
  },
  {
   "cell_type": "code",
   "execution_count": 42,
   "metadata": {},
   "outputs": [],
   "source": [
    "class Caneta :\n",
    "    def __init__(self, cor):\n",
    "        self.cor = cor\n",
    "\n",
    "    def get_cor(self):\n",
    "        print( 'GET COR')\n",
    "        return self.cor"
   ]
  },
  {
   "cell_type": "code",
   "execution_count": 43,
   "metadata": {},
   "outputs": [
    {
     "name": "stdout",
     "output_type": "stream",
     "text": [
      "GET COR\n",
      "Azul\n"
     ]
    }
   ],
   "source": [
    "caneta = Caneta ('Azul')\n",
    "print(caneta.get_cor())"
   ]
  },
  {
   "attachments": {},
   "cell_type": "markdown",
   "metadata": {},
   "source": [
    "# Usando Property para usar o Get em forma de metodo que se conporta como atributo"
   ]
  },
  {
   "cell_type": "code",
   "execution_count": 44,
   "metadata": {},
   "outputs": [],
   "source": [
    "class Caneta:\n",
    "    def __init__(self, cor):\n",
    "        self.cor_tinta = cor\n",
    "\n",
    "    @property\n",
    "    def cor(self):\n",
    "        return self.cor_tinta \n",
    "    \n",
    "    @property\n",
    "    def cor_tampa(self):\n",
    "        return 123456"
   ]
  },
  {
   "attachments": {},
   "cell_type": "markdown",
   "metadata": {},
   "source": [
    "# Utilizando o SETTER e o getter para encapsular"
   ]
  },
  {
   "cell_type": "code",
   "execution_count": 60,
   "metadata": {},
   "outputs": [
    {
     "name": "stdout",
     "output_type": "stream",
     "text": [
      "Rosa\n",
      "None\n"
     ]
    }
   ],
   "source": [
    "class Caneta:\n",
    "\n",
    "    def __init__(self, cor):\n",
    "        self._cor = cor\n",
    "        self._cor_tampa  = None\n",
    "        \n",
    "\n",
    "    @property  # é o getter\n",
    "    def cor(self):\n",
    "       \n",
    "        return self._cor\n",
    "    \n",
    "    @cor.setter\n",
    "    def cor(self, valor):\n",
    "       \n",
    "        self._cor = valor\n",
    "    \n",
    " \n",
    "    @property  # é o getter\n",
    "    def cor_tampa(self):\n",
    "       \n",
    "        return self._cor_tampa\n",
    "    \n",
    "    @cor_tampa.setter\n",
    "    def cor_tampa(self, valor):\n",
    "       \n",
    "        self._cor_tampa = valor\n",
    "\n",
    "caneta = Caneta(\"azul\")\n",
    "caneta.cor = 'Rosa'\n",
    "\n",
    "print(caneta.cor)\n",
    "print(caneta.cor_tampa)\n",
    "\n",
    "\n",
    "   "
   ]
  }
 ],
 "metadata": {
  "kernelspec": {
   "display_name": "base",
   "language": "python",
   "name": "python3"
  },
  "language_info": {
   "codemirror_mode": {
    "name": "ipython",
    "version": 3
   },
   "file_extension": ".py",
   "mimetype": "text/x-python",
   "name": "python",
   "nbconvert_exporter": "python",
   "pygments_lexer": "ipython3",
   "version": "3.9.13"
  },
  "orig_nbformat": 4
 },
 "nbformat": 4,
 "nbformat_minor": 2
}
