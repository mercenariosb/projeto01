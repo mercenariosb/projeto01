{
 "cells": [
  {
   "cell_type": "code",
   "execution_count": 14,
   "metadata": {},
   "outputs": [
    {
     "name": "stdout",
     "output_type": "stream",
     "text": [
      "Mensagem criptografada: zwsl xfyoz\n"
     ]
    }
   ],
   "source": [
    "def cripyto_de_caesar(texto, key):\n",
    "    encrypted_texto = \"\"\n",
    "    for char in texto:\n",
    "        if char.isalpha():\n",
    "            if char.isupper():\n",
    "                ascii_set = ord('A')\n",
    "            else:\n",
    "                ascii_set = ord('a')\n",
    "            encrypted_letra = chr((ord(char) - ascii_set + key) % 26 + ascii_set)\n",
    "            encrypted_texto += encrypted_letra\n",
    "        else:\n",
    "            encrypted_texto += char\n",
    "    return encrypted_texto\n",
    "\n",
    "# Obter a chave do usuário\n",
    "chave = input(\"Digite a chave: \")\n",
    "try:\n",
    "    chave = int(chave)\n",
    "    if chave < 0:\n",
    "        raise ValueError\n",
    "except ValueError:\n",
    "    print(\"A chave deve ser um número inteiro positivo.\")\n",
    "    exit()\n",
    "\n",
    "# Obter a mensagem do usuário\n",
    "messagem = input(\"Digite a mensagem a ser criptografada: \")\n",
    "\n",
    "# Criptografar a mensagem usando a cifra de César\n",
    "encrypted_messagem = cripyto_de_caesar(messagem, chave)\n",
    "\n",
    "print(\"Mensagem criptografada:\", encrypted_messagem)\n"
   ]
  },
  {
   "attachments": {},
   "cell_type": "markdown",
   "metadata": {},
   "source": [
    "#descriptografor"
   ]
  },
  {
   "cell_type": "code",
   "execution_count": 15,
   "metadata": {},
   "outputs": [
    {
     "name": "stdout",
     "output_type": "stream",
     "text": [
      "Mensagem descriptografada: urng satju\n"
     ]
    }
   ],
   "source": [
    "def caesar_descrypt_caesar(texto, key):\n",
    "    decrypted_texto = \"\"\n",
    "    for char in texto:\n",
    "        if char.isalpha():\n",
    "            if char.isupper():\n",
    "                ascii_set = ord('A')\n",
    "            else:\n",
    "                ascii_set = ord('a')\n",
    "            decrypted_letra = chr((ord(char) - ascii_set - key) % 26 + ascii_set)\n",
    "            decrypted_texto += decrypted_letra\n",
    "        else:\n",
    "            decrypted_texto += char\n",
    "    return decrypted_texto\n",
    "\n",
    "# Obter a chave do usuário\n",
    "chave = input(\"Digite a chave: \")\n",
    "try:\n",
    "    chave = int(chave)\n",
    "    if chave < 0:\n",
    "        raise ValueError\n",
    "except ValueError:\n",
    "    print(\"A chave deve ser um número inteiro positivo.\")\n",
    "    exit()\n",
    "\n",
    "# Obter a mensagem criptografada do usuário\n",
    "encrypted_messagem = input(\"Digite a mensagem criptografada: \")\n",
    "\n",
    "# Descriptografar a mensagem usando a cifra de César\n",
    "decrypted_messagem = caesar_descrypt_caesar(encrypted_messagem, chave)\n",
    "\n",
    "print(\"Mensagem descriptografada:\", decrypted_messagem)\n"
   ]
  }
 ],
 "metadata": {
  "kernelspec": {
   "display_name": "base",
   "language": "python",
   "name": "python3"
  },
  "language_info": {
   "codemirror_mode": {
    "name": "ipython",
    "version": 3
   },
   "file_extension": ".py",
   "mimetype": "text/x-python",
   "name": "python",
   "nbconvert_exporter": "python",
   "pygments_lexer": "ipython3",
   "version": "3.9.13"
  },
  "orig_nbformat": 4
 },
 "nbformat": 4,
 "nbformat_minor": 2
}
