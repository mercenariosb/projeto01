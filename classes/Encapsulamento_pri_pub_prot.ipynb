{
 "cells": [
  {
   "cell_type": "code",
   "execution_count": null,
   "metadata": {},
   "outputs": [],
   "source": []
  },
  {
   "cell_type": "code",
   "execution_count": 1,
   "metadata": {},
   "outputs": [],
   "source": [
    "# Metodo Publico"
   ]
  },
  {
   "cell_type": "code",
   "execution_count": 2,
   "metadata": {},
   "outputs": [],
   "source": [
    "class foo:\n",
    "    def __init__(self):\n",
    "        self.public ='isso é publico'\n",
    "\n",
    "    def metodo_publico(self):\n",
    "        return 'metodo publico'\n",
    "    "
   ]
  },
  {
   "attachments": {},
   "cell_type": "markdown",
   "metadata": {},
   "source": [
    "# Com um Underscore é protect e com dois é privado\n",
    "\n",
    "## Veremos o protect abaixo."
   ]
  },
  {
   "cell_type": "code",
   "execution_count": 3,
   "metadata": {},
   "outputs": [],
   "source": [
    "class foo:\n",
    "    def __init__(self):\n",
    "        self.public ='isso é publico'\n",
    "        self._protected = 'isso é protegido'\n",
    "\n",
    "    def metodo_publico(self):\n",
    "        return 'metodo publico'\n",
    "    \n",
    "    def _metodo_protected(self):\n",
    "        return '_metodo_protected'  # Não deve ser usado fora da classe"
   ]
  },
  {
   "attachments": {},
   "cell_type": "markdown",
   "metadata": {},
   "source": [
    "## Veremos o Privado"
   ]
  },
  {
   "cell_type": "code",
   "execution_count": 4,
   "metadata": {},
   "outputs": [],
   "source": [
    "class foo:\n",
    "    def __init__(self):\n",
    "        self.public ='isso é publico'\n",
    "        self._protected = 'isso é protegido'\n",
    "        self.__private = 'privado'  # so pode ser usado na classe onde foi criado, nem nas subclasses deve de ser usados\n",
    "\n",
    "\n",
    "    def metodo_publico(self):\n",
    "        return 'metodo publico'\n",
    "    \n",
    "    def _metodo_protected(self):\n",
    "        return '_metodo_protected'"
   ]
  },
  {
   "cell_type": "code",
   "execution_count": null,
   "metadata": {},
   "outputs": [],
   "source": []
  },
  {
   "cell_type": "code",
   "execution_count": 5,
   "metadata": {},
   "outputs": [],
   "source": []
  },
  {
   "cell_type": "code",
   "execution_count": null,
   "metadata": {},
   "outputs": [],
   "source": []
  },
  {
   "cell_type": "code",
   "execution_count": null,
   "metadata": {},
   "outputs": [],
   "source": []
  }
 ],
 "metadata": {
  "kernelspec": {
   "display_name": "base",
   "language": "python",
   "name": "python3"
  },
  "language_info": {
   "codemirror_mode": {
    "name": "ipython",
    "version": 3
   },
   "file_extension": ".py",
   "mimetype": "text/x-python",
   "name": "python",
   "nbconvert_exporter": "python",
   "pygments_lexer": "ipython3",
   "version": "3.9.13"
  },
  "orig_nbformat": 4
 },
 "nbformat": 4,
 "nbformat_minor": 2
}
