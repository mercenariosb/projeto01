{
 "cells": [
  {
   "cell_type": "code",
   "execution_count": 1,
   "metadata": {},
   "outputs": [],
   "source": []
  },
  {
   "cell_type": "code",
   "execution_count": 24,
   "metadata": {},
   "outputs": [],
   "source": [
    "class Cliente:\n",
    "\n",
    "    def __init__(self, nome):\n",
    "        self.nome = nome\n",
    "        self.enderecos = []\n",
    "\n",
    "\n",
    "    def inserir_endereco(self, rua, numero):\n",
    "        self.enderecos.append(Endereco(rua, numero))  # Quando Agrega os dois quando deleta um cliente o endereço esta junto na função do cliente e tambem é apagado\n",
    "          \n",
    "    def listar_enderecos(self):\n",
    "        #print(*self.enderecos, sep= \"\\n\")\n",
    "        for endereco in self.enderecos:\n",
    "             print(endereco.rua, endereco.numero)  \n",
    "             \n",
    "class Endereco:\n",
    "    def __init__(self, rua, numero):\n",
    "       self.rua = rua\n",
    "       self.numero = numero "
   ]
  },
  {
   "cell_type": "code",
   "execution_count": 25,
   "metadata": {},
   "outputs": [],
   "source": [
    "cliente = Cliente('maria')\n",
    "cliente.inserir_endereco('avBrasil', 54)\n",
    "cliente.inserir_endereco('avBrasil2222', 5224)\n"
   ]
  },
  {
   "cell_type": "code",
   "execution_count": 28,
   "metadata": {},
   "outputs": [
    {
     "name": "stdout",
     "output_type": "stream",
     "text": [
      "avBrasil 54\n",
      "avBrasil2222 5224\n"
     ]
    }
   ],
   "source": [
    "cliente.listar_enderecos()"
   ]
  },
  {
   "cell_type": "code",
   "execution_count": null,
   "metadata": {},
   "outputs": [],
   "source": []
  },
  {
   "cell_type": "code",
   "execution_count": null,
   "metadata": {},
   "outputs": [],
   "source": []
  },
  {
   "cell_type": "code",
   "execution_count": null,
   "metadata": {},
   "outputs": [],
   "source": []
  }
 ],
 "metadata": {
  "kernelspec": {
   "display_name": "base",
   "language": "python",
   "name": "python3"
  },
  "language_info": {
   "codemirror_mode": {
    "name": "ipython",
    "version": 3
   },
   "file_extension": ".py",
   "mimetype": "text/x-python",
   "name": "python",
   "nbconvert_exporter": "python",
   "pygments_lexer": "ipython3",
   "version": "3.9.13"
  },
  "orig_nbformat": 4
 },
 "nbformat": 4,
 "nbformat_minor": 2
}
