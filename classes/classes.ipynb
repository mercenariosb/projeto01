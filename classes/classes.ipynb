{
 "cells": [
  {
   "cell_type": "code",
   "execution_count": 1,
   "metadata": {},
   "outputs": [],
   "source": [
    "class Pessoa:\n",
    "    def __init__(self, nome, sobrenome):\n",
    "        self.nome = nome\n",
    "        self.sobrenome = sobrenome\n",
    "        print(f\"Nome: {nome}\\nsobrenome: {sobrenome}\")\n"
   ]
  },
  {
   "cell_type": "code",
   "execution_count": 2,
   "metadata": {},
   "outputs": [
    {
     "name": "stdout",
     "output_type": "stream",
     "text": [
      "Nome: osmar\n",
      "sobrenome: dias\n"
     ]
    }
   ],
   "source": [
    "p1 = Pessoa('osmar','dias')\n",
    "\n"
   ]
  },
  {
   "cell_type": "code",
   "execution_count": 3,
   "metadata": {},
   "outputs": [],
   "source": [
    "class Carro:\n",
    "    def __init__(self, nome ):\n",
    "        self.nome = nome\n",
    "\n",
    "    def acelerar(self):\n",
    "        print(f'{self.nome} esta acelerando ...')"
   ]
  },
  {
   "cell_type": "code",
   "execution_count": 4,
   "metadata": {},
   "outputs": [
    {
     "name": "stdout",
     "output_type": "stream",
     "text": [
      "celta esta acelerando ...\n"
     ]
    }
   ],
   "source": [
    "celta = Carro('celta')\n",
    "celta.acelerar()"
   ]
  },
  {
   "cell_type": "code",
   "execution_count": 5,
   "metadata": {},
   "outputs": [],
   "source": [
    "class Animal:\n",
    "    \n",
    "    def __init__(self, nome):\n",
    "        self.nome = nome\n",
    "\n",
    "    def comendo(self, alimento):\n",
    "\n",
    "        return f'{self.nome} esta comendo {alimento}'"
   ]
  },
  {
   "cell_type": "code",
   "execution_count": 6,
   "metadata": {},
   "outputs": [
    {
     "data": {
      "text/plain": [
       "'leão esta comendo zebra'"
      ]
     },
     "execution_count": 6,
     "metadata": {},
     "output_type": "execute_result"
    }
   ],
   "source": [
    "leao = Animal('leão')\n",
    "leao.comendo('zebra')"
   ]
  },
  {
   "cell_type": "code",
   "execution_count": 7,
   "metadata": {},
   "outputs": [],
   "source": [
    "class Camera:\n",
    "    def __init__(self, nome, filmando =False):\n",
    "        self.nome= nome\n",
    "        self.filmando = filmando\n",
    "\n",
    "    def filmar(self):\n",
    "\n",
    "        if self.filmando:\n",
    "            print(f'{self.nome} Já esta Filmando!')\n",
    "            return\n",
    "        \n",
    "        print(f'{self.nome} esta filmando!')\n",
    "        self.filmando = True   \n",
    "    \n",
    "    def parar_filmar(self):\n",
    "\n",
    "        if not self.filmando:  # cuidar do not \n",
    "            print(f'{self.nome} não esta filmando!')\n",
    "            return\n",
    "\n",
    "        print(f'{self.nome} esta parando de filmar filmando!')\n",
    "        self.filmando = False\n",
    "\n",
    "    def fotografar(self):\n",
    "        if self.filmando:\n",
    "            print(f'{self.nome} não pode fotografar filmando!')\n",
    "            return\n",
    "        \n",
    "        print(f'{self.nome} esta fotografando!')\n",
    "\n",
    "\n",
    "    "
   ]
  },
  {
   "cell_type": "code",
   "execution_count": 8,
   "metadata": {},
   "outputs": [
    {
     "name": "stdout",
     "output_type": "stream",
     "text": [
      " canon esta filmando!\n",
      "True\n",
      "False\n"
     ]
    }
   ],
   "source": [
    "c1 = Camera( ' canon')\n",
    "c2= Camera('sony')\n",
    "c1.filmar()\n",
    "\n",
    "print(c1.filmando)\n",
    "print(c2.filmando)"
   ]
  },
  {
   "cell_type": "code",
   "execution_count": 9,
   "metadata": {},
   "outputs": [
    {
     "name": "stdout",
     "output_type": "stream",
     "text": [
      " canon Já esta Filmando!\n",
      " canon não pode fotografar filmando!\n",
      " canon esta parando de filmar filmando!\n",
      " canon esta fotografando!\n"
     ]
    }
   ],
   "source": [
    "c1.filmar()\n",
    "c1.fotografar()\n",
    "c1.parar_filmar()\n",
    "c1.fotografar()\n",
    "\n",
    "\n",
    "\n"
   ]
  },
  {
   "cell_type": "code",
   "execution_count": 15,
   "metadata": {},
   "outputs": [
    {
     "name": "stdout",
     "output_type": "stream",
     "text": [
      " canon esta fotografando!\n"
     ]
    }
   ],
   "source": [
    "c1.fotografar()\n"
   ]
  },
  {
   "attachments": {},
   "cell_type": "markdown",
   "metadata": {},
   "source": [
    "# Classe Pessoa com atributos "
   ]
  },
  {
   "cell_type": "code",
   "execution_count": 11,
   "metadata": {},
   "outputs": [],
   "source": [
    "class Pessoa:\n",
    "    ano_atual = 2022\n",
    "\n",
    "    def __init__(self, nome, idade):\n",
    "      self.nome = nome\n",
    "      self.idade = idade\n",
    "    \n",
    "    def ano_nascimento (self):\n",
    "       return Pessoa.ano_atual - self.idade\n",
    "    "
   ]
  },
  {
   "cell_type": "code",
   "execution_count": null,
   "metadata": {},
   "outputs": [],
   "source": []
  },
  {
   "cell_type": "code",
   "execution_count": null,
   "metadata": {},
   "outputs": [],
   "source": []
  },
  {
   "cell_type": "code",
   "execution_count": null,
   "metadata": {},
   "outputs": [],
   "source": []
  },
  {
   "cell_type": "code",
   "execution_count": null,
   "metadata": {},
   "outputs": [],
   "source": []
  },
  {
   "cell_type": "code",
   "execution_count": null,
   "metadata": {},
   "outputs": [],
   "source": []
  }
 ],
 "metadata": {
  "kernelspec": {
   "display_name": "base",
   "language": "python",
   "name": "python3"
  },
  "language_info": {
   "codemirror_mode": {
    "name": "ipython",
    "version": 3
   },
   "file_extension": ".py",
   "mimetype": "text/x-python",
   "name": "python",
   "nbconvert_exporter": "python",
   "pygments_lexer": "ipython3",
   "version": "3.9.13"
  },
  "orig_nbformat": 4
 },
 "nbformat": 4,
 "nbformat_minor": 2
}
