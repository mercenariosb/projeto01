{
 "cells": [
  {
   "cell_type": "code",
   "execution_count": null,
   "metadata": {},
   "outputs": [],
   "source": []
  },
  {
   "cell_type": "code",
   "execution_count": null,
   "metadata": {},
   "outputs": [],
   "source": []
  },
  {
   "attachments": {},
   "cell_type": "markdown",
   "metadata": {},
   "source": [
    "# AgreGação é uma relação onde um não funcionara direito sem o outro Igual um Carro que não funciona direito sem uma roda e vice versa\n",
    "\n",
    "## Eles podem viver separadamente mais dependem do outro para funcionar corretamente"
   ]
  },
  {
   "cell_type": "code",
   "execution_count": 13,
   "metadata": {},
   "outputs": [],
   "source": [
    "class Carrinho:\n",
    "    def __init__(self):\n",
    "        self._produtos = []\n",
    "\n",
    "    def total(self):\n",
    "        return sum([p.preco for p in self._produtos])\n",
    "    \n",
    "    def inserir_produtos(self, *produtos):\n",
    "        for produto in produtos:\n",
    "            self._produtos.append(produto)\n",
    "            #self._produtos += produtos  Resultado é o mesmo\n",
    "    \n",
    "    def listar_produtos(self):\n",
    "        print()\n",
    "        for produto in self._produtos:\n",
    "            print(produto.nome, produto.preco)\n",
    "        print()\n",
    "\n",
    "\n",
    "class Produto:\n",
    "    def __init__(self, nome, preco):\n",
    "        self.nome = nome\n",
    "        self.preco = preco\n",
    "\n",
    "\n",
    "carrinho = Carrinho()\n",
    "\n",
    "p1, p2 = Produto(\"caneta\", 1.20), Produto('Camiseta', 20)"
   ]
  },
  {
   "cell_type": "code",
   "execution_count": 14,
   "metadata": {},
   "outputs": [],
   "source": [
    "carrinho.inserir_produtos(p1,p2)"
   ]
  },
  {
   "cell_type": "code",
   "execution_count": 18,
   "metadata": {},
   "outputs": [
    {
     "name": "stdout",
     "output_type": "stream",
     "text": [
      "\n",
      "caneta 1.2\n",
      "Camiseta 20\n",
      "\n",
      "21.2\n"
     ]
    }
   ],
   "source": [
    "carrinho.listar_produtos()\n",
    "print(carrinho.total())\n"
   ]
  },
  {
   "cell_type": "code",
   "execution_count": 8,
   "metadata": {},
   "outputs": [
    {
     "data": {
      "text/plain": [
       "0"
      ]
     },
     "execution_count": 8,
     "metadata": {},
     "output_type": "execute_result"
    }
   ],
   "source": []
  },
  {
   "cell_type": "code",
   "execution_count": null,
   "metadata": {},
   "outputs": [],
   "source": []
  },
  {
   "cell_type": "code",
   "execution_count": null,
   "metadata": {},
   "outputs": [],
   "source": []
  },
  {
   "cell_type": "code",
   "execution_count": null,
   "metadata": {},
   "outputs": [],
   "source": []
  },
  {
   "cell_type": "code",
   "execution_count": null,
   "metadata": {},
   "outputs": [],
   "source": []
  },
  {
   "cell_type": "code",
   "execution_count": null,
   "metadata": {},
   "outputs": [],
   "source": []
  }
 ],
 "metadata": {
  "kernelspec": {
   "display_name": "base",
   "language": "python",
   "name": "python3"
  },
  "language_info": {
   "codemirror_mode": {
    "name": "ipython",
    "version": 3
   },
   "file_extension": ".py",
   "mimetype": "text/x-python",
   "name": "python",
   "nbconvert_exporter": "python",
   "pygments_lexer": "ipython3",
   "version": "3.9.13"
  },
  "orig_nbformat": 4
 },
 "nbformat": 4,
 "nbformat_minor": 2
}
