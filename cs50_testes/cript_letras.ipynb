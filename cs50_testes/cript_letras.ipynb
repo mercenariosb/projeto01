{
 "cells": [
  {
   "cell_type": "code",
   "execution_count": 35,
   "metadata": {},
   "outputs": [
    {
     "name": "stdout",
     "output_type": "stream",
     "text": [
      "Mensagem criptografada: olb\n"
     ]
    }
   ],
   "source": [
    "import string\n",
    "\n",
    "def substitution_cipher(text, key):\n",
    "    encrypted_text = \"\"\n",
    "    for char in text:\n",
    "        if char.isalpha():\n",
    "            if char.isupper():\n",
    "                index = ord(char) - ord('A')\n",
    "                encrypted_char = key[index].upper()\n",
    "            else:\n",
    "                index = ord(char) - ord('a')\n",
    "                encrypted_char = key[index].lower()\n",
    "            encrypted_text += encrypted_char\n",
    "        else:\n",
    "            encrypted_text += char\n",
    "    return encrypted_text\n",
    "\n",
    "# Obter a chave do usuário\n",
    "key = input(\"Digite 26 letras do alfabeto fora de ordem como chave: \") # Não pode repetir as letras\n",
    "\n",
    "# Verificar se a chave é válida\n",
    "key = key.upper()\n",
    "if len(key) != 26 or not all(char.isalpha() for char in key) or len(set(key)) != 26:\n",
    "    print(\"A chave deve ser uma sequência de 26 letras do alfabeto sem repetições.\")\n",
    "    exit()\n",
    "\n",
    "# Obter a mensagem para criptografar do usuário\n",
    "message = input(\"Digite a mensagem: \")\n",
    "\n",
    "# Criptografar a mensagem usando a cifra de substituição\n",
    "encrypted_message = substitution_cipher(message, key)\n",
    "\n",
    "print(\"Mensagem criptografada:\", encrypted_message)\n",
    "\n",
    "\n"
   ]
  },
  {
   "cell_type": "code",
   "execution_count": 1,
   "metadata": {},
   "outputs": [
    {
     "name": "stdout",
     "output_type": "stream",
     "text": [
      "Mensagem descriptografada: olb\n"
     ]
    }
   ],
   "source": [
    "import string\n",
    "\n",
    "def substitution_cipher(text, key):\n",
    "    encrypted_text = \"\"\n",
    "    for char in text:\n",
    "        if char.isalpha():\n",
    "            if char.isupper():\n",
    "                index = ord(char) - ord('A')\n",
    "                encrypted_char = key[index].upper()\n",
    "            else:\n",
    "                index = ord(char) - ord('a')\n",
    "                encrypted_char = key[index].lower()\n",
    "            encrypted_text += encrypted_char\n",
    "        else:\n",
    "            encrypted_text += char\n",
    "    return encrypted_text\n",
    "\n",
    "def substitution_cipher_decrypt(ciphertext, key):\n",
    "    decrypted_text = \"\"\n",
    "    for char in ciphertext:\n",
    "        if char.isalpha():\n",
    "            if char.isupper():\n",
    "                index = key.upper().index(char)\n",
    "                decrypted_char = string.ascii_uppercase[index]\n",
    "            else:\n",
    "                index = key.lower().index(char)\n",
    "                decrypted_char = string.ascii_lowercase[index]\n",
    "            decrypted_text += decrypted_char\n",
    "        else:\n",
    "            decrypted_text += char\n",
    "    return decrypted_text\n",
    "\n",
    "# Obter a chave do usuário\n",
    "key = input(\"Digite 26 letras do alfabeto fora de ordem como chave: \") # Não pode repetir as letras\n",
    "\n",
    "# Verificar se a chave é válida\n",
    "key = key.upper()\n",
    "if len(key) != 26 or not all(char.isalpha() for char in key) or len(set(key)) != 26:\n",
    "    print(\"A chave deve ser uma sequência de 26 letras do alfabeto sem repetições.\")\n",
    "    exit()\n",
    "\n",
    "# Obter a mensagem criptografada do usuário\n",
    "ciphertext = input(\"Digite a mensagem criptografada: \")\n",
    "\n",
    "# Descriptografar a mensagem usando a cifra de substituição\n",
    "decrypted_message = substitution_cipher_decrypt(ciphertext, key)\n",
    "\n",
    "print(\"Mensagem descriptografada:\", decrypted_message)\n"
   ]
  },
  {
   "attachments": {},
   "cell_type": "markdown",
   "metadata": {},
   "source": [
    "#codigo sem precisar de todas as letras logo abaixo\n"
   ]
  },
  {
   "cell_type": "code",
   "execution_count": 21,
   "metadata": {},
   "outputs": [
    {
     "name": "stdout",
     "output_type": "stream",
     "text": [
      "Mensagem criptografada: aea\n"
     ]
    }
   ],
   "source": [
    "import string\n",
    "\n",
    "def substitution_cipher(text, key):\n",
    "    encrypted_text = \"\"\n",
    "    for char in text:\n",
    "        if char.isalpha():\n",
    "            if char.isupper():\n",
    "                index = ord(char) - ord('A')\n",
    "                encrypted_char = key[index % len(key)].upper()\n",
    "            else:\n",
    "                index = ord(char) - ord('a')\n",
    "                encrypted_char = key[index % len(key)].lower()\n",
    "            encrypted_text += encrypted_char\n",
    "        else:\n",
    "            encrypted_text += char\n",
    "    return encrypted_text\n",
    "\n",
    "# Obter a chave do usuário\n",
    "key = input(\"Digite a chave: \")\n",
    "\n",
    "# Verificar se a chave é válida\n",
    "key = key.upper()\n",
    "\n",
    "# Obter a mensagem para criptografar do usuário\n",
    "message = input(\"Digite a mensagem: \")\n",
    "\n",
    "# Criptografar a mensagem usando a cifra de substituição\n",
    "encrypted_message = substitution_cipher(message, key)\n",
    "\n",
    "print(\"Mensagem criptografada:\", encrypted_message)\n"
   ]
  },
  {
   "attachments": {},
   "cell_type": "markdown",
   "metadata": {},
   "source": [
    "descriptografar"
   ]
  },
  {
   "cell_type": "code",
   "execution_count": 24,
   "metadata": {},
   "outputs": [
    {
     "name": "stdout",
     "output_type": "stream",
     "text": [
      "Mensagem descriptografada: zzz\n"
     ]
    }
   ],
   "source": [
    "import string\n",
    "\n",
    "def substitution_cipher_decrypt(ciphertext, key):\n",
    "    decrypted_text = \"\"\n",
    "    for char in ciphertext:\n",
    "        if char.isalpha():\n",
    "            if char.isupper():\n",
    "                index = key.find(char.upper())\n",
    "                decrypted_char = string.ascii_uppercase[index]\n",
    "            else:\n",
    "                index = key.find(char.lower())\n",
    "                decrypted_char = string.ascii_lowercase[index]\n",
    "            decrypted_text += decrypted_char\n",
    "        else:\n",
    "            decrypted_text += char\n",
    "    return decrypted_text\n",
    "\n",
    "# Obter a chave do usuário\n",
    "key = input(\"Digite a chave: \")\n",
    "\n",
    "# Verificar se a chave é válida\n",
    "key = key.upper()\n",
    "\n",
    "# Obter a mensagem criptografada do usuário\n",
    "ciphertext = input(\"Digite a mensagem criptografada: \")\n",
    "\n",
    "# Descriptografar a mensagem usando a cifra de substituição\n",
    "decrypted_message = substitution_cipher_decrypt(ciphertext, key)\n",
    "\n",
    "print(\"Mensagem descriptografada:\", decrypted_message)\n",
    "\n",
    "\n"
   ]
  },
  {
   "cell_type": "code",
   "execution_count": 1,
   "metadata": {},
   "outputs": [
    {
     "name": "stdout",
     "output_type": "stream",
     "text": [
      "A chave deve ser uma sequência de 26 letras do alfabeto sem repetições.\n",
      "Mensagem criptografada: pmb\n",
      "Mensagem descriptografada: ola\n",
      "A mensagem descriptografada é igual à mensagem original.\n"
     ]
    },
    {
     "ename": "",
     "evalue": "",
     "output_type": "error",
     "traceback": [
      "\u001b[1;31mO Kernel falhou ao executar o código na célula atual ou em uma célula anterior. Examine o código nas células para identificar uma possível causa da falha. Clique <a href=\"https://aka.ms/vscodeJupyterKernelCrash\">aqui</a> para obter mais informações. Consulte o <a href='command:jupyter.viewOutput'>log</a> do Jupyter para obter mais detalhes."
     ]
    }
   ],
   "source": [
    "import string\n",
    "\n",
    "def substitution_cipher(text, key):\n",
    "    encrypted_text = \"\"\n",
    "    for char in text:\n",
    "        if char.isalpha():\n",
    "            if char.isupper():\n",
    "                index = ord(char) - ord('A')\n",
    "                encrypted_char = key[index].upper()\n",
    "            else:\n",
    "                index = ord(char) - ord('a')\n",
    "                encrypted_char = key[index].lower()\n",
    "            encrypted_text += encrypted_char\n",
    "        else:\n",
    "            encrypted_text += char\n",
    "    return encrypted_text\n",
    "\n",
    "def substitution_cipher_decrypt(ciphertext, key):\n",
    "    decrypted_text = \"\"\n",
    "    for char in ciphertext:\n",
    "        if char.isalpha():\n",
    "            if char.isupper():\n",
    "                index = key.upper().index(char)\n",
    "                decrypted_char = string.ascii_uppercase[index]\n",
    "            else:\n",
    "                index = key.lower().index(char)\n",
    "                decrypted_char = string.ascii_lowercase[index]\n",
    "            decrypted_text += decrypted_char\n",
    "        else:\n",
    "            decrypted_text += char\n",
    "    return decrypted_text\n",
    "\n",
    "# Obter a chave do usuário\n",
    "key = input(\"Digite 26 letras do alfabeto fora de ordem como chave: \") # Não pode repetir as letras\n",
    "\n",
    "# Verificar se a chave é válida\n",
    "key = key.upper()\n",
    "if len(key) != 26 or not all(char.isalpha() for char in key) or len(set(key)) != 26:\n",
    "    print(\"A chave deve ser uma sequência de 26 letras do alfabeto sem repetições.\")\n",
    "    exit()\n",
    "\n",
    "# Obter a mensagem para criptografar do usuário\n",
    "message = input(\"Digite a mensagem: \")\n",
    "\n",
    "# Criptografar a mensagem usando a cifra de substituição\n",
    "encrypted_message = substitution_cipher(message, key)\n",
    "\n",
    "print(\"Mensagem criptografada:\", encrypted_message)\n",
    "\n",
    "# Descriptografar a mensagem usando a cifra de substituição\n",
    "decrypted_message = substitution_cipher_decrypt(encrypted_message, key)\n",
    "\n",
    "print(\"Mensagem descriptografada:\", decrypted_message)\n",
    "\n",
    "# Verificar se a mensagem descriptografada é igual à mensagem original\n",
    "if decrypted_message == message:\n",
    "    print(\"A mensagem descriptografada é igual à mensagem original.\")\n",
    "else:\n",
    "    print(\"A mensagem descriptografada não corresponde à mensagem original.\")\n",
    "\n"
   ]
  },
  {
   "attachments": {},
   "cell_type": "markdown",
   "metadata": {},
   "source": [
    "Abaixo funcional 26 letras\n"
   ]
  },
  {
   "cell_type": "code",
   "execution_count": 9,
   "metadata": {},
   "outputs": [
    {
     "name": "stdout",
     "output_type": "stream",
     "text": [
      "Mensagem criptografada: ntmeo\n"
     ]
    }
   ],
   "source": [
    "import string\n",
    "\n",
    "def substitution_cipher(text, key):\n",
    "    encrypted_text = \"\"\n",
    "    for char in text:\n",
    "        if char.isalpha():\n",
    "            if char.isupper():\n",
    "                index = ord(char) - ord('A')\n",
    "                encrypted_char = key[index].upper()\n",
    "            else:\n",
    "                index = ord(char) - ord('a')\n",
    "                encrypted_char = key[index].lower()\n",
    "            encrypted_text += encrypted_char\n",
    "        else:\n",
    "            encrypted_text += char\n",
    "    return encrypted_text\n",
    "\n",
    "# Obter a chave do usuário\n",
    "key = input(\"Digite 26 letras do alfabeto fora de ordem como chave: \") # Não pode repetir as letras\n",
    "\n",
    "# Verificar se a chave é válida\n",
    "key = key.upper()\n",
    "if len(key) != 26 or not all(char.isalpha() for char in key) or len(set(key)) != 26:\n",
    "    print(\"A chave deve ser uma sequência de 26 letras do alfabeto sem repetições.\")\n",
    "    exit()\n",
    "\n",
    "# Obter a mensagem para criptografar do usuário\n",
    "message = input('Digite o texto')\n",
    "\n",
    "# Criptografar a mensagem usando a cifra de substituição\n",
    "encrypted_message = substitution_cipher(message, key)\n",
    "\n",
    "print(\"Mensagem criptografada:\", encrypted_message)\n"
   ]
  },
  {
   "cell_type": "code",
   "execution_count": 10,
   "metadata": {},
   "outputs": [
    {
     "name": "stdout",
     "output_type": "stream",
     "text": [
      "Mensagem descriptografada: mundo\n"
     ]
    }
   ],
   "source": [
    "\n",
    "\n",
    "import string\n",
    "\n",
    "def substitution_cipher_decrypt(ciphertext, key):\n",
    "    decrypted_text = \"\"\n",
    "    for char in ciphertext:\n",
    "        if char.isalpha():\n",
    "            if char.isupper():\n",
    "                index = key.upper().index(char)\n",
    "                decrypted_char = string.ascii_uppercase[index]\n",
    "            else:\n",
    "                index = key.lower().index(char)\n",
    "                decrypted_char = string.ascii_lowercase[index]\n",
    "            decrypted_text += decrypted_char\n",
    "        else:\n",
    "            decrypted_text += char\n",
    "    return decrypted_text\n",
    "\n",
    "# Obter a chave do usuário\n",
    "key = input(\"Digite 26 letras do alfabeto fora de ordem como chave: \") # Não pode repetir as letras\n",
    "\n",
    "# Verificar se a chave é válida\n",
    "key = key.upper()\n",
    "if len(key) != 26 or not all(char.isalpha() for char in key) or len(set(key)) != 26:\n",
    "    print(\"A chave deve ser uma sequência de 26 letras do alfabeto sem repetições.\")\n",
    "    exit()\n",
    "\n",
    "# Obter a mensagem criptografada do usuário\n",
    "ciphertext = input('Digite o texto')\n",
    "\n",
    "# Descriptografar a mensagem usando a cifra de substituição\n",
    "decrypted_message = substitution_cipher_decrypt(ciphertext, key)\n",
    "\n",
    "print(\"Mensagem descriptografada:\", decrypted_message)\n"
   ]
  }
 ],
 "metadata": {
  "kernelspec": {
   "display_name": "base",
   "language": "python",
   "name": "python3"
  },
  "language_info": {
   "codemirror_mode": {
    "name": "ipython",
    "version": 3
   },
   "file_extension": ".py",
   "mimetype": "text/x-python",
   "name": "python",
   "nbconvert_exporter": "python",
   "pygments_lexer": "ipython3",
   "version": "3.9.13"
  },
  "orig_nbformat": 4
 },
 "nbformat": 4,
 "nbformat_minor": 2
}
