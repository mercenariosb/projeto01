{
 "cells": [
  {
   "cell_type": "code",
   "execution_count": null,
   "metadata": {},
   "outputs": [],
   "source": []
  },
  {
   "cell_type": "code",
   "execution_count": 22,
   "metadata": {},
   "outputs": [],
   "source": [
    "class Carro:\n",
    "    def __init__(self, modelo):\n",
    "        self._Modelo = modelo\n",
    "        self._motor = None\n",
    "        self._fabricante = None\n",
    "\n",
    "    @property\n",
    "    def modelo(self):\n",
    "       \n",
    "        return self._Modelo\n",
    "    \n",
    "    @modelo.setter\n",
    "    def modelo(self, valor):\n",
    "       \n",
    "        self._Modelo = valor\n",
    "\n",
    "    @property\n",
    "    def motor(self):\n",
    "       \n",
    "        return self._motor\n",
    "    \n",
    "    @motor.setter\n",
    "    def motor(self, valor):\n",
    "       \n",
    "        self._motor = valor\n",
    "\n",
    "    @property\n",
    "    def fabricante(self):\n",
    "\n",
    "        return self._fabricante\n",
    "\n",
    "    @fabricante.setter\n",
    "    def fabricante(self, valor):\n",
    "\n",
    "        self._fabricante = valor\n",
    "\n",
    "\n",
    "class Motor:\n",
    "    def __init__(self, nome):\n",
    "        self.nome = nome\n",
    "\n",
    "   \n",
    "\n",
    "\n",
    "class Fabricante:\n",
    "    def __init__(self, nome):\n",
    "        self.nome = nome\n",
    "\n",
    "  \n",
    "\n",
    "\n",
    "\n",
    "    "
   ]
  },
  {
   "cell_type": "code",
   "execution_count": 23,
   "metadata": {},
   "outputs": [
    {
     "name": "stdout",
     "output_type": "stream",
     "text": [
      "fusca fiat 1.0\n"
     ]
    }
   ],
   "source": [
    "fusca = Carro(\"fusca\")\n",
    "fiat = Fabricante(\"fiat\")\n",
    "fusca.fabricante= fiat\n",
    "motor_1_0 = Motor(\"1.0\")\n",
    "fusca.motor = motor_1_0\n",
    "print(fusca.modelo, fusca.fabricante.nome, fusca.motor.nome)\n"
   ]
  },
  {
   "cell_type": "code",
   "execution_count": null,
   "metadata": {},
   "outputs": [],
   "source": []
  },
  {
   "cell_type": "code",
   "execution_count": null,
   "metadata": {},
   "outputs": [],
   "source": [
    "\n"
   ]
  },
  {
   "cell_type": "code",
   "execution_count": null,
   "metadata": {},
   "outputs": [],
   "source": []
  },
  {
   "cell_type": "code",
   "execution_count": null,
   "metadata": {},
   "outputs": [],
   "source": []
  }
 ],
 "metadata": {
  "kernelspec": {
   "display_name": "base",
   "language": "python",
   "name": "python3"
  },
  "language_info": {
   "codemirror_mode": {
    "name": "ipython",
    "version": 3
   },
   "file_extension": ".py",
   "mimetype": "text/x-python",
   "name": "python",
   "nbconvert_exporter": "python",
   "pygments_lexer": "ipython3",
   "version": "3.9.13"
  },
  "orig_nbformat": 4
 },
 "nbformat": 4,
 "nbformat_minor": 2
}
